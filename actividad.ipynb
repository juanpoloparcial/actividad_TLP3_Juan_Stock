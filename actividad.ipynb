{
 "cells": [
  {
   "cell_type": "markdown",
   "id": "3bc4a6ef",
   "metadata": {},
   "source": [
    "# Actividad - Trabajando con Series de Pandas.\n",
    "## Criterios de evaluación.\n",
    "\n",
    "* Se deben utilizar nombres de variables descriptivos y claros (Utilizar la nomeclatura correspondiente para los nombres de variables).\n",
    "* Comentarios claros y concisos que expliquen el propósito de cada sección del código.\n",
    "* Utilizar mensajes de commit **descriptivos**. (Puedes utilizar la extension CONVENTIONAL COMMIT de VS-CODE). \n",
    "* Entrega en tiempo y forma.\n",
    "* Todo el código desarrollado debe ser subido a un repositorio en GitHub (el nombre del repositorio de seguir la siguiente estructura: actividad_tlp3_nombre_apellido).\n",
    "* Para resolver las actividades se debe insertar casillas de codigo entre cada actividad del cuaderno de Jupyter\n",
    "\n",
    "### ¡Importante!\n",
    "**El incumplimiento de los criterios de evaluación restará puntos en la nota final del práctico!**"
   ]
  },
  {
   "cell_type": "markdown",
   "id": "9349de94",
   "metadata": {},
   "source": [
    "### **Actividad 1:** \n",
    "\n",
    "Crear Series desde diferentes estructuras.\n",
    "* Crea una Series con los números del 1 al 5\n",
    "* Crea una Series a partir de un diccionario con nombres de países como claves y sus capitales como valores."
   ]
  },
  {
   "cell_type": "code",
   "execution_count": 3,
   "id": "026cf0c2",
   "metadata": {},
   "outputs": [
    {
     "name": "stdout",
     "output_type": "stream",
     "text": [
      "Serie de números del 1 al 5: \n",
      " 0    1\n",
      "1    2\n",
      "2    3\n",
      "3    4\n",
      "4    5\n",
      "dtype: int64\n",
      "\n",
      " Paises y capitales: \n",
      "\n",
      "Argentina             Bs As\n",
      "Alemania             Berlín\n",
      "Francia               París\n",
      "Nueva Zelanda    Wellington\n",
      "Dinamarca        Copenhague\n",
      "dtype: object\n"
     ]
    }
   ],
   "source": [
    "import pandas as pd\n",
    "from pandas import Series\n",
    "# todo:\n",
    "# 1\n",
    "serie_numeros = pd.Series([1,2,3,4,5])\n",
    "print(\"Serie de números del 1 al 5: \\n\", serie_numeros)\n",
    "\n",
    "\n",
    "#2\n",
    "print(\"\\n Paises y capitales: \\n\")\n",
    "capitales = { \"Argentina\": \"Bs As\", \n",
    "                \"Alemania\":\"Berlín\", \n",
    "                \"Francia\": \"París\", \n",
    "                \"Nueva Zelanda\": \"Wellington\",\n",
    "                \"Dinamarca\":\"Copenhague\"}\n",
    "\n",
    "serie_paises = pd.Series(capitales)\n",
    "print(serie_paises)\n",
    "\n"
   ]
  },
  {
   "cell_type": "markdown",
   "id": "889365fb",
   "metadata": {},
   "source": [
    "### **Actividad 2:** \n",
    "Acceso y selección de elementos.\n",
    "* Usa una Series con tareas (que haceres cotidianos) de una semana\n",
    "* Accede a diferentes elementos a elección.\n",
    "* Cambia los valores de los dias pares.\n"
   ]
  },
  {
   "cell_type": "code",
   "execution_count": 8,
   "id": "8c7873bc",
   "metadata": {},
   "outputs": [
    {
     "name": "stdout",
     "output_type": "stream",
     "text": [
      "Tareas de la semana: \n",
      " Lunes                 Ir al gym\n",
      "Martes          Estudiar Python\n",
      "Miércoles    Ir a la peluqueria\n",
      "Jueves          Jugar al Futbol\n",
      "Viernes           Salir de joda\n",
      "Sábado               Ir al cine\n",
      "Domingo          Comer un asado\n",
      "dtype: object\n",
      "\n",
      " Accedemos a los días Jueves y Domingo \n",
      "\n",
      "Jueves:  Jugar al Futbol \n",
      " Domingo:  Comer un asado\n",
      "Semana Modificada: \n",
      " Lunes                 Ir al gym\n",
      "Martes           Estudiar React\n",
      "Miércoles    Ir a la peluqueria\n",
      "Jueves           Jugar al Padel\n",
      "Viernes           Salir de joda\n",
      "Sábado        Netflix and Chill\n",
      "Domingo          Comer un asado\n",
      "dtype: object\n"
     ]
    }
   ],
   "source": [
    "import pandas as pd\n",
    "# todo:\n",
    "#1\n",
    "tareas_semana = pd.Series({\n",
    "    \"Lunes\": \"Ir al gym\",\n",
    "    \"Martes\": \"Estudiar Python\",\n",
    "    \"Miércoles\": \"Ir a la peluqueria\",\n",
    "    \"Jueves\": \"Jugar al Futbol\",\n",
    "    \"Viernes\": \"Salir de joda\",\n",
    "    \"Sábado\": \"Ir al cine\",\n",
    "    \"Domingo\": \"Comer un asado\"\n",
    "})\n",
    "\n",
    "print(\"Tareas de la semana: \\n\", tareas_semana)\n",
    "#2 - Acceder a diferentes elementos a elección\n",
    "print(\"\\n Accedemos a los días Jueves y Domingo \\n\")\n",
    "print(\"Jueves: \", tareas_semana[\"Jueves\"], \"\\n Domingo: \", tareas_semana[\"Domingo\"])\n",
    "\n",
    "# 3 - Cambiar los valores de los días Pares.\n",
    "tareas_semana[\"Martes\"] = \"Estudiar React\"\n",
    "tareas_semana[\"Jueves\"] = \"Jugar al Padel\"\n",
    "tareas_semana[\"Sábado\"] = \"Netflix and Chill\"\n",
    "\n",
    "print(\"Semana Modificada: \\n\", tareas_semana)"
   ]
  },
  {
   "cell_type": "markdown",
   "id": "20ffae04",
   "metadata": {},
   "source": [
    "### **Actividad 3:**\n",
    "Operaciones aritméticas. \n",
    "* Realiza las operaciones basicas con 2 series cuales quieran.\n",
    "* Eleva los valores de la primer serie a 3 potencias difetentes."
   ]
  },
  {
   "cell_type": "code",
   "execution_count": null,
   "id": "d0802674",
   "metadata": {},
   "outputs": [
    {
     "name": "stdout",
     "output_type": "stream",
     "text": [
      "Serie 1: \n",
      " 0    1\n",
      "1    3\n",
      "2    5\n",
      "3    7\n",
      "4    9\n",
      "dtype: int64 \n",
      " Serie 2: \n",
      " 0     2\n",
      "1     4\n",
      "2     6\n",
      "3     8\n",
      "4    10\n",
      "dtype: int64\n",
      " - OPERACIONES BASICAS - \n",
      "Elevamos Serie 1 a 3 distintas potencias.\n",
      "\n",
      "Al cuadrado: \n",
      " 0     1\n",
      "1     9\n",
      "2    25\n",
      "3    49\n",
      "4    81\n",
      "dtype: int64 \n",
      " Al cubo:  0      1\n",
      "1     27\n",
      "2    125\n",
      "3    343\n",
      "4    729\n",
      "dtype: int64 A la cuarta:  0       1\n",
      "1      81\n",
      "2     625\n",
      "3    2401\n",
      "4    6561\n",
      "dtype: int64\n"
     ]
    }
   ],
   "source": [
    "\n",
    "# todo:\n",
    "serie_uno = pd.Series([1,3,5,7,9])\n",
    "serie_dos = pd.Series([2,4,6,8,10])\n",
    "\n",
    "print(\"Serie 1: \\n\",serie_uno, \"\\n Serie 2: \\n\", serie_dos)\n",
    "\n",
    "print(\" - OPERACIONES BASICAS - \")\n",
    "\n",
    "print(\"SUMA: \\n\", serie_uno + serie_dos)\n",
    "print(\"RESTA: \\n\", serie_uno - serie_dos)\n",
    "print(\"MULTIPLICACIÓN: \\n\", serie_uno * serie_dos)\n",
    "print(\"DIVISIÓN: \\n\", serie_dos / serie_uno)\n",
    "\n",
    "print(\"Elevamos Serie 1 a 3 distintas potencias.\\n\")\n",
    "print(\"Al cuadrado: \\n\", serie_uno ** 2, \"\\n Al cubo: \", serie_uno ** 3, \n",
    "        \"A la cuarta: \", serie_uno ** 4)"
   ]
  },
  {
   "cell_type": "markdown",
   "id": "5154248f",
   "metadata": {},
   "source": [
    "### **Actividad 4:** \n",
    "Filtrado con condiciones.\n",
    "* Crea una Series de edades de 10 personas.\n",
    "* Muestra solo a los mayores de 18.\n",
    "* Reemplaza a los menores por \"Menor de edad\"."
   ]
  },
  {
   "cell_type": "code",
   "execution_count": null,
   "id": "bffdea85",
   "metadata": {},
   "outputs": [],
   "source": [
    "\n",
    "# todo:"
   ]
  },
  {
   "cell_type": "markdown",
   "id": "36a709c3",
   "metadata": {},
   "source": [
    "### Actividad 5:\n",
    "Estadísticas básicas.\n",
    "\n",
    "* Crea una Series con las notas de 10 estudiantes.\n",
    "* Calcula la media, mediana, desviación estándar y máximo.\n",
    "* Muestra cuántos estudiantes aprobaron si el mínimo para aprobar es 6.\n",
    "* Ordenar las notas de manera ascendente y descendente. "
   ]
  },
  {
   "cell_type": "code",
   "execution_count": null,
   "id": "f07ea6e4",
   "metadata": {},
   "outputs": [],
   "source": [
    "\n",
    "# todo:\n"
   ]
  }
 ],
 "metadata": {
  "kernelspec": {
   "display_name": "env",
   "language": "python",
   "name": "python3"
  },
  "language_info": {
   "codemirror_mode": {
    "name": "ipython",
    "version": 3
   },
   "file_extension": ".py",
   "mimetype": "text/x-python",
   "name": "python",
   "nbconvert_exporter": "python",
   "pygments_lexer": "ipython3",
   "version": "3.12.9"
  }
 },
 "nbformat": 4,
 "nbformat_minor": 5
}
